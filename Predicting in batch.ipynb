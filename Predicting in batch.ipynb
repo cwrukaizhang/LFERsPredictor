{
 "cells": [
  {
   "cell_type": "code",
   "execution_count": 1,
   "metadata": {
    "collapsed": true
   },
   "outputs": [
    {
     "name": "stderr",
     "output_type": "stream",
     "text": [
      "Using TensorFlow backend.\n"
     ]
    }
   ],
   "source": [
    "# import the required packages\n",
    "import numpy as np\n",
    "import pandas as pd\n",
    "from tensorflow import keras\n",
    "from flask import Flask, request, jsonify, render_template\n",
    "import pubchempy as pcp\n",
    "import pickle\n",
    "from keras import backend\n",
    "from padelpy import from_smiles"
   ]
  },
  {
   "cell_type": "code",
   "execution_count": 2,
   "outputs": [],
   "source": [
    "# loading built models and features\n",
    "def loading_model():\n",
    "    models = [keras.models.load_model(ele+'_model.h5', compile=False) for ele in ['E',\"S\",\"A\",\"B\"]]\n",
    "    Scaler = pickle.load(open(\"Scaler.pkl\",'rb'))\n",
    "    feature_name = list(pickle.load(open(\"feature_name.pkl\",'rb')))\n",
    "    return models,Scaler,feature_name"
   ],
   "metadata": {
    "collapsed": false,
    "pycharm": {
     "name": "#%%%\n"
    }
   }
  },
  {
   "cell_type": "code",
   "execution_count": 3,
   "outputs": [],
   "source": [
    "# generating the input features and do scaling\n",
    "def generate_feature(SMILES,feature_name,Scaler):\n",
    "\n",
    "    descriptors = from_smiles(SMILES)\n",
    "    Inform = pcp.compounds_to_frame(pcp.get_compounds(SMILES,'smiles'), properties=['xlogp','synonyms'])\n",
    "    cids = pcp.get_cids(SMILES, 'smiles')\n",
    "    V = [round(float(descriptors[\"McGowan_Volume\"]),2)]\n",
    "    features = map(lambda x: descriptors[x], feature_name)\n",
    "    features = Scaler.transform(np.array(list(features)).reshape(1, -1))\n",
    "    return features, V,Inform, cids"
   ],
   "metadata": {
    "collapsed": false,
    "pycharm": {
     "name": "#%%\n"
    }
   }
  },
  {
   "cell_type": "code",
   "execution_count": 18,
   "outputs": [],
   "source": [
    "# making prediction for using the loaded models\n",
    "\n",
    "def making_prediction(models,features,V,Inform):\n",
    "    prediction = [round(float(model.predict(features)),2) for model in models] + V\n",
    "    Surrogates = abs(np.dot([0.562,-1.054,0.034,-3.46,3.814],prediction[0:5]) +0.088-Inform[\"xlogp\"].values)\n",
    "    goodness = \"G\" if Surrogates<=0.5 else (\"F\" if Surrogates<=1 else \"B\")\n",
    "    prediction.append(goodness)\n",
    "    return prediction"
   ],
   "metadata": {
    "collapsed": false,
    "pycharm": {
     "name": "#%%\n"
    }
   }
  },
  {
   "cell_type": "code",
   "execution_count": 19,
   "outputs": [],
   "source": [
    "SMILES = [\"Clc1ccc(cc1)C(c2ccc(Cl)cc2)C(Cl)(Cl)Cl\",\n",
    "\"CSc1ccc2Sc3ccccc3N(CCC4CCCCN4C)c2c1\",\n",
    "\"ClC(Cl)C(c1ccc(Cl)cc1)c2ccccc2Cl\",\n",
    "\"Cc1cc(C)c2nc3ccc4ccccc4c3cc2c1\",\n",
    "\"c1ccc2c(c1)ccc3cc4c(ccc5ccccc45)cc23\",\n",
    "\"Cc1ccc2cc3c(ccc4ccccc34)c5CCc1c25\",\n",
    "\"ClC1CC2C(C1Cl)C3(Cl)C(=C(Cl)C2(Cl)C3(Cl)Cl)Cl\",\n",
    "\"Cc1c2ccccc2c(C)c3c4ccccc4ccc13\"\n",
    "]"
   ],
   "metadata": {
    "collapsed": false,
    "pycharm": {
     "name": "#%%\n"
    }
   }
  },
  {
   "cell_type": "code",
   "execution_count": 22,
   "outputs": [
    {
     "name": "stderr",
     "output_type": "stream",
     "text": [
      "C:\\ProgramData\\Anaconda3\\lib\\site-packages\\sklearn\\base.py:334: UserWarning: Trying to unpickle estimator MinMaxScaler from version 0.22.2.post1 when using version 0.23.2. This might lead to breaking code or invalid results. Use at your own risk.\n",
      "  UserWarning)\n"
     ]
    },
    {
     "name": "stdout",
     "output_type": "stream",
     "text": [
      "WARNING:tensorflow:5 out of the last 33 calls to <function Model.make_predict_function.<locals>.predict_function at 0x0000014926185708> triggered tf.function retracing. Tracing is expensive and the excessive number of tracings could be due to (1) creating @tf.function repeatedly in a loop, (2) passing tensors with different shapes, (3) passing Python objects instead of tensors. For (1), please define your @tf.function outside of the loop. For (2), @tf.function has experimental_relax_shapes=True option that relaxes argument shapes that can avoid unnecessary retracing. For (3), please refer to https://www.tensorflow.org/tutorials/customization/performance#python_or_tensor_args and https://www.tensorflow.org/api_docs/python/tf/function for  more details.\n"
     ]
    },
    {
     "data": {
      "text/plain": "                           Name                                  SMILES  \\\n0                   Clofenotane  Clc1ccc(cc1)C(c2ccc(Cl)cc2)C(Cl)(Cl)Cl   \n1                  Thioridazine     CSc1ccc2Sc3ccccc3N(CCC4CCCCN4C)c2c1   \n2                      Mitotane        ClC(Cl)C(c1ccc(Cl)cc1)c2ccccc2Cl   \n3  8,10-Dimethylbenz(A)Acridine          Cc1cc(C)c2nc3ccc4ccccc4c3cc2c1   \n4         Dibenz[A,H]Anthracene    c1ccc2c(c1)ccc3cc4c(ccc5ccccc45)cc23   \n\n     CID     E     S     A     B     V Goodness  \n0   3036  1.76  1.65  0.01  0.15  2.22        G  \n1   5452  2.84  2.05  0.14  1.22  2.90        G  \n2   4211  1.77  1.51  0.02  0.31  2.10        G  \n3  66127  3.00  1.81  0.04  0.57  2.06        G  \n4   5889  3.82  2.08  0.01  0.43  2.19        G  ",
      "text/html": "<div>\n<style scoped>\n    .dataframe tbody tr th:only-of-type {\n        vertical-align: middle;\n    }\n\n    .dataframe tbody tr th {\n        vertical-align: top;\n    }\n\n    .dataframe thead th {\n        text-align: right;\n    }\n</style>\n<table border=\"1\" class=\"dataframe\">\n  <thead>\n    <tr style=\"text-align: right;\">\n      <th></th>\n      <th>Name</th>\n      <th>SMILES</th>\n      <th>CID</th>\n      <th>E</th>\n      <th>S</th>\n      <th>A</th>\n      <th>B</th>\n      <th>V</th>\n      <th>Goodness</th>\n    </tr>\n  </thead>\n  <tbody>\n    <tr>\n      <th>0</th>\n      <td>Clofenotane</td>\n      <td>Clc1ccc(cc1)C(c2ccc(Cl)cc2)C(Cl)(Cl)Cl</td>\n      <td>3036</td>\n      <td>1.76</td>\n      <td>1.65</td>\n      <td>0.01</td>\n      <td>0.15</td>\n      <td>2.22</td>\n      <td>G</td>\n    </tr>\n    <tr>\n      <th>1</th>\n      <td>Thioridazine</td>\n      <td>CSc1ccc2Sc3ccccc3N(CCC4CCCCN4C)c2c1</td>\n      <td>5452</td>\n      <td>2.84</td>\n      <td>2.05</td>\n      <td>0.14</td>\n      <td>1.22</td>\n      <td>2.90</td>\n      <td>G</td>\n    </tr>\n    <tr>\n      <th>2</th>\n      <td>Mitotane</td>\n      <td>ClC(Cl)C(c1ccc(Cl)cc1)c2ccccc2Cl</td>\n      <td>4211</td>\n      <td>1.77</td>\n      <td>1.51</td>\n      <td>0.02</td>\n      <td>0.31</td>\n      <td>2.10</td>\n      <td>G</td>\n    </tr>\n    <tr>\n      <th>3</th>\n      <td>8,10-Dimethylbenz(A)Acridine</td>\n      <td>Cc1cc(C)c2nc3ccc4ccccc4c3cc2c1</td>\n      <td>66127</td>\n      <td>3.00</td>\n      <td>1.81</td>\n      <td>0.04</td>\n      <td>0.57</td>\n      <td>2.06</td>\n      <td>G</td>\n    </tr>\n    <tr>\n      <th>4</th>\n      <td>Dibenz[A,H]Anthracene</td>\n      <td>c1ccc2c(c1)ccc3cc4c(ccc5ccccc45)cc23</td>\n      <td>5889</td>\n      <td>3.82</td>\n      <td>2.08</td>\n      <td>0.01</td>\n      <td>0.43</td>\n      <td>2.19</td>\n      <td>G</td>\n    </tr>\n  </tbody>\n</table>\n</div>"
     },
     "execution_count": 22,
     "metadata": {},
     "output_type": "execute_result"
    }
   ],
   "source": [
    "new_prediction =[]\n",
    "models,Scaler,feature_name = loading_model()\n",
    "for smiles in SMILES:\n",
    "   features, V,Inform, cids =generate_feature(smiles,feature_name,Scaler)\n",
    "   prediction = making_prediction(models,features,V,Inform)\n",
    "   new_prediction.append([list(Inform['synonyms'])[0][0].title()]+[smiles]+cids+prediction)\n",
    "results = pd.DataFrame(new_prediction,columns=[\"Name\",\"SMILES\",\"CID\",\"E\",\"S\",\"A\",\"B\",\"V\",\"Goodness\"])\n",
    "results.head()\n",
    "#results.to_csv(\"./results.csv\")"
   ],
   "metadata": {
    "collapsed": false,
    "pycharm": {
     "name": "#%%\n"
    }
   }
  },
  {
   "cell_type": "code",
   "execution_count": 15,
   "outputs": [
    {
     "data": {
      "text/plain": "                           Name                                  SMILES  \\\n0                   Clofenotane  Clc1ccc(cc1)C(c2ccc(Cl)cc2)C(Cl)(Cl)Cl   \n1                  Thioridazine     CSc1ccc2Sc3ccccc3N(CCC4CCCCN4C)c2c1   \n2                      Mitotane        ClC(Cl)C(c1ccc(Cl)cc1)c2ccccc2Cl   \n3  8,10-Dimethylbenz(A)Acridine          Cc1cc(C)c2nc3ccc4ccccc4c3cc2c1   \n4         Dibenz[A,H]Anthracene    c1ccc2c(c1)ccc3cc4c(ccc5ccccc45)cc23   \n\n     CID     E     S     A     B     V Goodness  \n0   3036  1.76  1.65  0.01  0.15  2.22   [2.22]  \n1   5452  2.84  2.05  0.14  1.22  2.90    [2.9]  \n2   4211  1.77  1.51  0.02  0.31  2.10    [2.1]  \n3  66127  3.00  1.81  0.04  0.57  2.06   [2.06]  \n4   5889  3.82  2.08  0.01  0.43  2.19   [2.19]  ",
      "text/html": "<div>\n<style scoped>\n    .dataframe tbody tr th:only-of-type {\n        vertical-align: middle;\n    }\n\n    .dataframe tbody tr th {\n        vertical-align: top;\n    }\n\n    .dataframe thead th {\n        text-align: right;\n    }\n</style>\n<table border=\"1\" class=\"dataframe\">\n  <thead>\n    <tr style=\"text-align: right;\">\n      <th></th>\n      <th>Name</th>\n      <th>SMILES</th>\n      <th>CID</th>\n      <th>E</th>\n      <th>S</th>\n      <th>A</th>\n      <th>B</th>\n      <th>V</th>\n      <th>Goodness</th>\n    </tr>\n  </thead>\n  <tbody>\n    <tr>\n      <th>0</th>\n      <td>Clofenotane</td>\n      <td>Clc1ccc(cc1)C(c2ccc(Cl)cc2)C(Cl)(Cl)Cl</td>\n      <td>3036</td>\n      <td>1.76</td>\n      <td>1.65</td>\n      <td>0.01</td>\n      <td>0.15</td>\n      <td>2.22</td>\n      <td>[2.22]</td>\n    </tr>\n    <tr>\n      <th>1</th>\n      <td>Thioridazine</td>\n      <td>CSc1ccc2Sc3ccccc3N(CCC4CCCCN4C)c2c1</td>\n      <td>5452</td>\n      <td>2.84</td>\n      <td>2.05</td>\n      <td>0.14</td>\n      <td>1.22</td>\n      <td>2.90</td>\n      <td>[2.9]</td>\n    </tr>\n    <tr>\n      <th>2</th>\n      <td>Mitotane</td>\n      <td>ClC(Cl)C(c1ccc(Cl)cc1)c2ccccc2Cl</td>\n      <td>4211</td>\n      <td>1.77</td>\n      <td>1.51</td>\n      <td>0.02</td>\n      <td>0.31</td>\n      <td>2.10</td>\n      <td>[2.1]</td>\n    </tr>\n    <tr>\n      <th>3</th>\n      <td>8,10-Dimethylbenz(A)Acridine</td>\n      <td>Cc1cc(C)c2nc3ccc4ccccc4c3cc2c1</td>\n      <td>66127</td>\n      <td>3.00</td>\n      <td>1.81</td>\n      <td>0.04</td>\n      <td>0.57</td>\n      <td>2.06</td>\n      <td>[2.06]</td>\n    </tr>\n    <tr>\n      <th>4</th>\n      <td>Dibenz[A,H]Anthracene</td>\n      <td>c1ccc2c(c1)ccc3cc4c(ccc5ccccc45)cc23</td>\n      <td>5889</td>\n      <td>3.82</td>\n      <td>2.08</td>\n      <td>0.01</td>\n      <td>0.43</td>\n      <td>2.19</td>\n      <td>[2.19]</td>\n    </tr>\n  </tbody>\n</table>\n</div>"
     },
     "execution_count": 15,
     "metadata": {},
     "output_type": "execute_result"
    }
   ],
   "source": [
    "results.head()\n"
   ],
   "metadata": {
    "collapsed": false,
    "pycharm": {
     "name": "#%%\n"
    }
   }
  }
 ],
 "metadata": {
  "kernelspec": {
   "display_name": "Python 3",
   "language": "python",
   "name": "python3"
  },
  "language_info": {
   "codemirror_mode": {
    "name": "ipython",
    "version": 2
   },
   "file_extension": ".py",
   "mimetype": "text/x-python",
   "name": "python",
   "nbconvert_exporter": "python",
   "pygments_lexer": "ipython2",
   "version": "2.7.6"
  }
 },
 "nbformat": 4,
 "nbformat_minor": 0
}